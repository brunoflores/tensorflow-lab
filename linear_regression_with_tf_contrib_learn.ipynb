{
 "cells": [
  {
   "cell_type": "markdown",
   "metadata": {},
   "source": [
    "# Linear Regression (with TensorFlow's high-level API)\n",
    "\n",
    "`tf.contrib.learn` is a high-level TensorFlow library that simplifies the mechanics of machine learning. It makes it easy to configure, train and evaluate a variety of machine learning models."
   ]
  },
  {
   "cell_type": "code",
   "execution_count": 1,
   "metadata": {
    "collapsed": false
   },
   "outputs": [
    {
     "name": "stdout",
     "output_type": "stream",
     "text": [
      "Running on TensorFlow 1.0.1\n"
     ]
    }
   ],
   "source": [
    "import tensorflow as tf\n",
    "import numpy as np\n",
    "\n",
    "print(\"Running on TensorFlow %s\" % tf.__version__)\n",
    "\n",
    "sess = tf.InteractiveSession()"
   ]
  },
  {
   "cell_type": "markdown",
   "metadata": {},
   "source": [
    "Declare list of features. We only have one real-valued feature. There are many other types of columns that are more complicated and useful."
   ]
  },
  {
   "cell_type": "code",
   "execution_count": 2,
   "metadata": {
    "collapsed": true
   },
   "outputs": [],
   "source": [
    "features = [tf.contrib.layers.real_valued_column(\"x\", dimension=1)]"
   ]
  },
  {
   "cell_type": "markdown",
   "metadata": {},
   "source": [
    "An estimator is the front end to invoke training (fitting) and evaluation\n",
    "(inference). There are many predefined types like linear regression,\n",
    "logistic regression, linear classification, logistic classification, and\n",
    "many neural network classifiers and regressors. The following code\n",
    "provides an estimator that does linear regression."
   ]
  },
  {
   "cell_type": "code",
   "execution_count": 3,
   "metadata": {
    "collapsed": false
   },
   "outputs": [
    {
     "name": "stdout",
     "output_type": "stream",
     "text": [
      "WARNING:tensorflow:Using temporary folder as model directory: /var/folders/7_/ff5ttr6d32gbzlhk_1_711y80000gn/T/tmprqh0_9qh\n",
      "INFO:tensorflow:Using default config.\n",
      "INFO:tensorflow:Using config: {'_environment': 'local', '_save_summary_steps': 100, '_keep_checkpoint_every_n_hours': 10000, '_keep_checkpoint_max': 5, '_tf_random_seed': None, '_task_id': 0, '_task_type': None, '_tf_config': gpu_options {\n",
      "  per_process_gpu_memory_fraction: 1\n",
      "}\n",
      ", '_evaluation_master': '', '_num_ps_replicas': 0, '_master': '', '_is_chief': True, '_save_checkpoints_secs': 600, '_cluster_spec': <tensorflow.python.training.server_lib.ClusterSpec object at 0x103756be0>, '_save_checkpoints_steps': None}\n"
     ]
    }
   ],
   "source": [
    "estimator = tf.contrib.learn.LinearRegressor(feature_columns=features)"
   ]
  },
  {
   "cell_type": "markdown",
   "metadata": {},
   "source": [
    "TensorFlow provides many helper methods to read and set up data sets.\n",
    "Here we use `numpy_input_fn`. We have to tell the function how many batches\n",
    "of data (num_epochs) we want and how big each batch should be."
   ]
  },
  {
   "cell_type": "code",
   "execution_count": 4,
   "metadata": {
    "collapsed": true
   },
   "outputs": [],
   "source": [
    "x = np.array([1., 2., 3., 4.])\n",
    "y = np.array([0., -1., -2., -3.])\n",
    "input_fn = tf.contrib.learn.io.numpy_input_fn({\"x\": x}, y, batch_size=4, num_epochs=1000)"
   ]
  },
  {
   "cell_type": "markdown",
   "metadata": {},
   "source": [
    "We can invoke 1000 training steps by invoking the `fit` method and passing the\n",
    "training data set."
   ]
  },
  {
   "cell_type": "code",
   "execution_count": 5,
   "metadata": {
    "collapsed": false
   },
   "outputs": [
    {
     "name": "stdout",
     "output_type": "stream",
     "text": [
      "WARNING:tensorflow:Rank of input Tensor (1) should be the same as output_rank (2) for column. Will attempt to expand dims. It is highly recommended that you resize your input, as this behavior may change.\n",
      "WARNING:tensorflow:From /Users/flores/anaconda3/envs/tensorflow/lib/python3.5/site-packages/tensorflow/contrib/learn/python/learn/estimators/head.py:1362: scalar_summary (from tensorflow.python.ops.logging_ops) is deprecated and will be removed after 2016-11-30.\n",
      "Instructions for updating:\n",
      "Please switch to tf.summary.scalar. Note that tf.summary.scalar uses the node name instead of the tag. This means that TensorFlow will automatically de-duplicate summary names based on the scope they are created in. Also, passing a tensor or list of tags to a scalar summary op is no longer supported.\n",
      "INFO:tensorflow:Create CheckpointSaverHook.\n",
      "INFO:tensorflow:Saving checkpoints for 1 into /var/folders/7_/ff5ttr6d32gbzlhk_1_711y80000gn/T/tmprqh0_9qh/model.ckpt.\n",
      "INFO:tensorflow:step = 1, loss = 4.25\n",
      "INFO:tensorflow:global_step/sec: 677.172\n",
      "INFO:tensorflow:step = 101, loss = 0.134428\n",
      "INFO:tensorflow:global_step/sec: 909.19\n",
      "INFO:tensorflow:step = 201, loss = 0.0213313\n",
      "INFO:tensorflow:global_step/sec: 870.421\n",
      "INFO:tensorflow:step = 301, loss = 0.00839828\n",
      "INFO:tensorflow:global_step/sec: 833.994\n",
      "INFO:tensorflow:step = 401, loss = 0.00109786\n",
      "INFO:tensorflow:global_step/sec: 848.198\n",
      "INFO:tensorflow:step = 501, loss = 0.000400303\n",
      "INFO:tensorflow:global_step/sec: 553.3\n",
      "INFO:tensorflow:step = 601, loss = 4.30557e-05\n",
      "INFO:tensorflow:global_step/sec: 533.103\n",
      "INFO:tensorflow:step = 701, loss = 1.70402e-05\n",
      "INFO:tensorflow:global_step/sec: 1032.14\n",
      "INFO:tensorflow:step = 801, loss = 9.71139e-06\n",
      "INFO:tensorflow:global_step/sec: 1263.1\n",
      "INFO:tensorflow:step = 901, loss = 1.54741e-06\n",
      "INFO:tensorflow:Saving checkpoints for 1000 into /var/folders/7_/ff5ttr6d32gbzlhk_1_711y80000gn/T/tmprqh0_9qh/model.ckpt.\n",
      "INFO:tensorflow:Loss for final step: 3.27957e-07.\n"
     ]
    },
    {
     "data": {
      "text/plain": [
       "LinearRegressor(params={'optimizer': None, 'gradient_clip_norm': None, 'head': <tensorflow.contrib.learn.python.learn.estimators.head._RegressionHead object at 0x103756ba8>, 'joint_weights': False, 'feature_columns': [_RealValuedColumn(column_name='x', dimension=1, default_value=None, dtype=tf.float32, normalizer=None)]})"
      ]
     },
     "execution_count": 5,
     "metadata": {},
     "output_type": "execute_result"
    }
   ],
   "source": [
    "estimator.fit(input_fn=input_fn, steps=1000)"
   ]
  },
  {
   "cell_type": "markdown",
   "metadata": {},
   "source": [
    "Here we evaluate how well our model did. In a real example, we would want\n",
    "to use a separate validation and testing data set to avoid overfitting."
   ]
  },
  {
   "cell_type": "code",
   "execution_count": 6,
   "metadata": {
    "collapsed": false
   },
   "outputs": [
    {
     "name": "stdout",
     "output_type": "stream",
     "text": [
      "WARNING:tensorflow:Rank of input Tensor (1) should be the same as output_rank (2) for column. Will attempt to expand dims. It is highly recommended that you resize your input, as this behavior may change.\n",
      "WARNING:tensorflow:From /Users/flores/anaconda3/envs/tensorflow/lib/python3.5/site-packages/tensorflow/contrib/learn/python/learn/estimators/head.py:1362: scalar_summary (from tensorflow.python.ops.logging_ops) is deprecated and will be removed after 2016-11-30.\n",
      "Instructions for updating:\n",
      "Please switch to tf.summary.scalar. Note that tf.summary.scalar uses the node name instead of the tag. This means that TensorFlow will automatically de-duplicate summary names based on the scope they are created in. Also, passing a tensor or list of tags to a scalar summary op is no longer supported.\n",
      "INFO:tensorflow:Starting evaluation at 2017-04-05-16:29:02\n",
      "INFO:tensorflow:Finished evaluation at 2017-04-05-16:29:04\n",
      "INFO:tensorflow:Saving dict for global step 1000: global_step = 1000, loss = 4.64023e-07\n",
      "WARNING:tensorflow:Skipping summary for global_step, must be a float or np.float32.\n",
      "{'global_step': 1000, 'loss': 4.6402275e-07}\n"
     ]
    }
   ],
   "source": [
    "print(estimator.evaluate(input_fn=input_fn))"
   ]
  },
  {
   "cell_type": "code",
   "execution_count": null,
   "metadata": {
    "collapsed": true
   },
   "outputs": [],
   "source": []
  }
 ],
 "metadata": {
  "kernelspec": {
   "display_name": "Python 3",
   "language": "python",
   "name": "python3"
  },
  "language_info": {
   "codemirror_mode": {
    "name": "ipython",
    "version": 3
   },
   "file_extension": ".py",
   "mimetype": "text/x-python",
   "name": "python",
   "nbconvert_exporter": "python",
   "pygments_lexer": "ipython3",
   "version": "3.5.2"
  }
 },
 "nbformat": 4,
 "nbformat_minor": 2
}
